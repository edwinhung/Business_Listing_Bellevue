{
 "cells": [
  {
   "cell_type": "markdown",
   "id": "3d1cb9f1",
   "metadata": {},
   "source": [
    "# Covid-19 Impact on Businesses in Bellevue, WA"
   ]
  },
  {
   "cell_type": "markdown",
   "id": "a4d868bd",
   "metadata": {},
   "source": [
    "## Introduction\n",
    "It has been more than two years since Covid-19 pandemic started in the U.S. Though our lives are getting back to normal, Covid's impact to our society is significant. A few weeks ago, my wife told me about her observation that it seemed like there were a lot more businesses poping up in residential area on Google Map, and she speculated that is was mainly due to Covid's influence. So, I decided to prove or disprove this by applying my data analysis skill, and I will walk through how I did it in this post."
   ]
  },
  {
   "cell_type": "markdown",
   "id": "f0795021",
   "metadata": {},
   "source": [
    "## Dataset\n",
    "Thanks to City of Bellevue | Open Data, I download Business Listing dataset on May 29,2022. It's a tabular data containing business information such as names, addresses and start date. There are 41,407 business dating all the way back to 1953."
   ]
  },
  {
   "cell_type": "code",
   "execution_count": 1,
   "id": "14bc368a",
   "metadata": {},
   "outputs": [],
   "source": [
    "#hide\n",
    "import numpy as np\n",
    "import pandas as pd\n",
    "import matplotlib.pyplot as plt\n",
    "import matplotlib.ticker as mtick\n",
    "%matplotlib inline\n",
    "\n",
    "\n",
    "import json\n",
    "import plotly.express as px\n",
    "from naics_convert import naics2industries, naics2sectors"
   ]
  },
  {
   "cell_type": "code",
   "execution_count": 10,
   "id": "c92e53f7",
   "metadata": {},
   "outputs": [],
   "source": [
    "#hide\n",
    "business = pd.read_csv(\"data/Business_Listing.csv\", low_memory=False)\n",
    "for date_col in ['CancelDate','FirstActivityDate','IssueDate']:\n",
    "    business[date_col] = pd.to_datetime(business[date_col])"
   ]
  },
  {
   "cell_type": "code",
   "execution_count": 11,
   "id": "752a5e31",
   "metadata": {},
   "outputs": [
    {
     "data": {
      "text/plain": [
       "(41407, Timestamp('1953-01-01 08:00:00+0000', tz='UTC'))"
      ]
     },
     "execution_count": 11,
     "metadata": {},
     "output_type": "execute_result"
    }
   ],
   "source": [
    "#hide_input\n",
    "business.shape[0], business['IssueDate'].min()"
   ]
  },
  {
   "cell_type": "markdown",
   "id": "00a8a773",
   "metadata": {},
   "source": [
    "## Objective\n",
    "The goal is to determine whether more people are starting their own businesses in Bellevue. That is, there are more newly small businesses in residential areas since the pandemic. It's also interesting if we can get an insight of what these business do."
   ]
  },
  {
   "cell_type": "markdown",
   "id": "89615d25",
   "metadata": {},
   "source": [
    "### Preprocess Data\n",
    "There are some preprocessing steps we need to do so that we can have not only a clean dataset but additional data not already existed in the original dataset. Here are the first 5 rows:"
   ]
  },
  {
   "cell_type": "code",
   "execution_count": 12,
   "id": "af411aba",
   "metadata": {
    "scrolled": false
   },
   "outputs": [
    {
     "data": {
      "text/html": [
       "<div>\n",
       "<style scoped>\n",
       "    .dataframe tbody tr th:only-of-type {\n",
       "        vertical-align: middle;\n",
       "    }\n",
       "\n",
       "    .dataframe tbody tr th {\n",
       "        vertical-align: top;\n",
       "    }\n",
       "\n",
       "    .dataframe thead th {\n",
       "        text-align: right;\n",
       "    }\n",
       "</style>\n",
       "<table border=\"1\" class=\"dataframe\">\n",
       "  <thead>\n",
       "    <tr style=\"text-align: right;\">\n",
       "      <th></th>\n",
       "      <th>X</th>\n",
       "      <th>Y</th>\n",
       "      <th>ObjectId</th>\n",
       "      <th>BusinessFactId</th>\n",
       "      <th>BusinessId</th>\n",
       "      <th>LegalEntityName</th>\n",
       "      <th>Dba</th>\n",
       "      <th>Ubi</th>\n",
       "      <th>Naic</th>\n",
       "      <th>LegalEntityType</th>\n",
       "      <th>...</th>\n",
       "      <th>MailingZip4</th>\n",
       "      <th>PhysicalAddressLine1</th>\n",
       "      <th>PhysicalAddressLine2</th>\n",
       "      <th>Textbox4</th>\n",
       "      <th>PhysicalCity</th>\n",
       "      <th>PhysicalState</th>\n",
       "      <th>PhysicalPostalCode</th>\n",
       "      <th>PhysicalZip4</th>\n",
       "      <th>ProductsAndServices</th>\n",
       "      <th>IssueDate</th>\n",
       "    </tr>\n",
       "  </thead>\n",
       "  <tbody>\n",
       "    <tr>\n",
       "      <th>0</th>\n",
       "      <td>-122.118803</td>\n",
       "      <td>47.594151</td>\n",
       "      <td>1</td>\n",
       "      <td>1</td>\n",
       "      <td>171474</td>\n",
       "      <td>ABACUS SCIENTIFIC INC</td>\n",
       "      <td>ABACUS SCIENTIFIC</td>\n",
       "      <td>6.047495e+15</td>\n",
       "      <td>541519.0</td>\n",
       "      <td>Corporation</td>\n",
       "      <td>...</td>\n",
       "      <td>5150</td>\n",
       "      <td>16517 SE 18th St</td>\n",
       "      <td>NaN</td>\n",
       "      <td>16517 SE 18th St</td>\n",
       "      <td>Bellevue</td>\n",
       "      <td>WA</td>\n",
       "      <td>98008</td>\n",
       "      <td>5150.0</td>\n",
       "      <td>Research and development. Computer Software</td>\n",
       "      <td>2021-07-26 06:59:59+00:00</td>\n",
       "    </tr>\n",
       "    <tr>\n",
       "      <th>1</th>\n",
       "      <td>-122.132494</td>\n",
       "      <td>47.605783</td>\n",
       "      <td>2</td>\n",
       "      <td>2</td>\n",
       "      <td>171612</td>\n",
       "      <td>BELLEVUE SUNFLOWER DAYCARE,LLC</td>\n",
       "      <td>BELLEVUE SUNFLOWER DAYCARE</td>\n",
       "      <td>6.047834e+15</td>\n",
       "      <td>611710.0</td>\n",
       "      <td>LLC or PLLC</td>\n",
       "      <td>...</td>\n",
       "      <td>5345</td>\n",
       "      <td>445 156th Ave SE</td>\n",
       "      <td>NaN</td>\n",
       "      <td>445 156th Ave SE</td>\n",
       "      <td>Bellevue</td>\n",
       "      <td>WA</td>\n",
       "      <td>98007</td>\n",
       "      <td>5345.0</td>\n",
       "      <td>Family childcare services for kids under 12-ye...</td>\n",
       "      <td>2021-08-09 06:59:59+00:00</td>\n",
       "    </tr>\n",
       "    <tr>\n",
       "      <th>2</th>\n",
       "      <td>-122.132017</td>\n",
       "      <td>47.622329</td>\n",
       "      <td>3</td>\n",
       "      <td>3</td>\n",
       "      <td>31781</td>\n",
       "      <td>BURGERMASTER OF BELLEVUE</td>\n",
       "      <td>NaN</td>\n",
       "      <td>1.790218e+08</td>\n",
       "      <td>722513.0</td>\n",
       "      <td>NaN</td>\n",
       "      <td>...</td>\n",
       "      <td>5098</td>\n",
       "      <td>1350 156TH AV NE</td>\n",
       "      <td>NaN</td>\n",
       "      <td>1350 156TH AV NE</td>\n",
       "      <td>BELLEVUE</td>\n",
       "      <td>WA</td>\n",
       "      <td>98007</td>\n",
       "      <td>4412.0</td>\n",
       "      <td>RESTAURANT</td>\n",
       "      <td>1988-11-01 07:59:59+00:00</td>\n",
       "    </tr>\n",
       "    <tr>\n",
       "      <th>3</th>\n",
       "      <td>-122.190504</td>\n",
       "      <td>47.626318</td>\n",
       "      <td>4</td>\n",
       "      <td>4</td>\n",
       "      <td>38947</td>\n",
       "      <td>CARL H JELSTRUP DC PS INC</td>\n",
       "      <td>NaN</td>\n",
       "      <td>6.013319e+08</td>\n",
       "      <td>621310.0</td>\n",
       "      <td>Corporation</td>\n",
       "      <td>...</td>\n",
       "      <td>NaN</td>\n",
       "      <td>1750 112TH AV NE</td>\n",
       "      <td>D154</td>\n",
       "      <td>1750 112TH AV NE D154</td>\n",
       "      <td>BELLEVUE</td>\n",
       "      <td>WA</td>\n",
       "      <td>98005</td>\n",
       "      <td>3727.0</td>\n",
       "      <td>CHIROPRACTIC HEALTH CARE</td>\n",
       "      <td>1992-04-01 08:00:00+00:00</td>\n",
       "    </tr>\n",
       "    <tr>\n",
       "      <th>4</th>\n",
       "      <td>-122.117462</td>\n",
       "      <td>47.641262</td>\n",
       "      <td>5</td>\n",
       "      <td>5</td>\n",
       "      <td>167692</td>\n",
       "      <td>ICK International Inc</td>\n",
       "      <td>ICK International Inc</td>\n",
       "      <td>6.044245e+15</td>\n",
       "      <td>541613.0</td>\n",
       "      <td>Corporation</td>\n",
       "      <td>...</td>\n",
       "      <td>6173</td>\n",
       "      <td>3508 167th Pl NE</td>\n",
       "      <td>NaN</td>\n",
       "      <td>3508 167th Pl NE</td>\n",
       "      <td>Bellevue</td>\n",
       "      <td>WA</td>\n",
       "      <td>98008</td>\n",
       "      <td>6173.0</td>\n",
       "      <td>SOFTWARE DEVELOPMENT and MARKETING</td>\n",
       "      <td>2020-04-08 06:59:59+00:00</td>\n",
       "    </tr>\n",
       "  </tbody>\n",
       "</table>\n",
       "<p>5 rows × 28 columns</p>\n",
       "</div>"
      ],
      "text/plain": [
       "            X          Y  ObjectId  BusinessFactId  BusinessId  \\\n",
       "0 -122.118803  47.594151         1               1      171474   \n",
       "1 -122.132494  47.605783         2               2      171612   \n",
       "2 -122.132017  47.622329         3               3       31781   \n",
       "3 -122.190504  47.626318         4               4       38947   \n",
       "4 -122.117462  47.641262         5               5      167692   \n",
       "\n",
       "                  LegalEntityName                         Dba           Ubi  \\\n",
       "0           ABACUS SCIENTIFIC INC           ABACUS SCIENTIFIC  6.047495e+15   \n",
       "1  BELLEVUE SUNFLOWER DAYCARE,LLC  BELLEVUE SUNFLOWER DAYCARE  6.047834e+15   \n",
       "2        BURGERMASTER OF BELLEVUE                         NaN  1.790218e+08   \n",
       "3       CARL H JELSTRUP DC PS INC                         NaN  6.013319e+08   \n",
       "4           ICK International Inc       ICK International Inc  6.044245e+15   \n",
       "\n",
       "       Naic LegalEntityType  ... MailingZip4 PhysicalAddressLine1  \\\n",
       "0  541519.0     Corporation  ...        5150     16517 SE 18th St   \n",
       "1  611710.0     LLC or PLLC  ...        5345     445 156th Ave SE   \n",
       "2  722513.0             NaN  ...        5098     1350 156TH AV NE   \n",
       "3  621310.0     Corporation  ...         NaN     1750 112TH AV NE   \n",
       "4  541613.0     Corporation  ...        6173     3508 167th Pl NE   \n",
       "\n",
       "   PhysicalAddressLine2               Textbox4 PhysicalCity PhysicalState  \\\n",
       "0                   NaN      16517 SE 18th St      Bellevue            WA   \n",
       "1                   NaN      445 156th Ave SE      Bellevue            WA   \n",
       "2                   NaN      1350 156TH AV NE      BELLEVUE            WA   \n",
       "3                  D154  1750 112TH AV NE D154     BELLEVUE            WA   \n",
       "4                   NaN      3508 167th Pl NE      Bellevue            WA   \n",
       "\n",
       "  PhysicalPostalCode PhysicalZip4  \\\n",
       "0              98008       5150.0   \n",
       "1              98007       5345.0   \n",
       "2              98007       4412.0   \n",
       "3              98005       3727.0   \n",
       "4              98008       6173.0   \n",
       "\n",
       "                                 ProductsAndServices                 IssueDate  \n",
       "0        Research and development. Computer Software 2021-07-26 06:59:59+00:00  \n",
       "1  Family childcare services for kids under 12-ye... 2021-08-09 06:59:59+00:00  \n",
       "2                                         RESTAURANT 1988-11-01 07:59:59+00:00  \n",
       "3                           CHIROPRACTIC HEALTH CARE 1992-04-01 08:00:00+00:00  \n",
       "4                 SOFTWARE DEVELOPMENT and MARKETING 2020-04-08 06:59:59+00:00  \n",
       "\n",
       "[5 rows x 28 columns]"
      ]
     },
     "execution_count": 12,
     "metadata": {},
     "output_type": "execute_result"
    }
   ],
   "source": [
    "#hide_inpute\n",
    "business.head()"
   ]
  },
  {
   "cell_type": "markdown",
   "id": "c0060312",
   "metadata": {},
   "source": [
    "Since we are interested in Covid's influence on new businesses, IssueDate (start date) would be critical to help us determine the business started before or after pandemic. We will drop 217 business with missing IssueDate. "
   ]
  },
  {
   "cell_type": "code",
   "execution_count": 13,
   "id": "441aaaed",
   "metadata": {},
   "outputs": [
    {
     "name": "stdout",
     "output_type": "stream",
     "text": [
      "217\n"
     ]
    }
   ],
   "source": [
    "#hide_input\n",
    "print(business['IssueDate'].isna().sum())\n",
    "business = business.dropna(subset=['IssueDate'])"
   ]
  },
  {
   "cell_type": "code",
   "execution_count": null,
   "id": "c2b1a43d",
   "metadata": {},
   "outputs": [],
   "source": [
    "#hide\n",
    "business[\"Sector\"] = naics2sectors(business[\"Naic\"])\n",
    "business[\"Industry\"] = naics2industries(business[\"Naic\"])\n",
    "business['Year'] = business['IssueDate'].dt.year"
   ]
  },
  {
   "cell_type": "markdown",
   "id": "d1c01ec7",
   "metadata": {},
   "source": [
    "### Addresses\n",
    "My initial approach is to fetch residential delivery indicator(RDI) for all businesses since we have their addresses. Unfortunately, it's only feasible with paid API (which I am reluctant to get for a hobby project). But, we can still plot business locations on a map. Mapbox provides free limited API request for its awesome Maps service. In addition, we truncate the dataset to keep only businesses with I"
   ]
  },
  {
   "cell_type": "code",
   "execution_count": null,
   "id": "4e65d531",
   "metadata": {},
   "outputs": [],
   "source": [
    "with open('mapbox_token.json','r') as openfile:\n",
    "    mapbox_token = json.load(openfile)\n",
    "px.set_mapbox_access_token(mapbox_token['token'])\n",
    "fig = px.scatter_mapbox(business[business['IssueDate'] >= '2018-01-01'],lat='Y',lon='X',color='post_covid',zoom=10,\n",
    "                        hover_name='LegalEntityName',opacity=0.6,title='Business Listing in Bellevue Pre/Post Covid-19')\n",
    "fig.show()"
   ]
  }
 ],
 "metadata": {
  "kernelspec": {
   "display_name": "Python 3",
   "language": "python",
   "name": "python3"
  },
  "language_info": {
   "codemirror_mode": {
    "name": "ipython",
    "version": 3
   },
   "file_extension": ".py",
   "mimetype": "text/x-python",
   "name": "python",
   "nbconvert_exporter": "python",
   "pygments_lexer": "ipython3",
   "version": "3.8.8"
  }
 },
 "nbformat": 4,
 "nbformat_minor": 5
}
