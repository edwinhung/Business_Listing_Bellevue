{
 "cells": [
  {
   "cell_type": "code",
   "execution_count": 114,
   "id": "f61d9b36",
   "metadata": {},
   "outputs": [],
   "source": [
    "import pandas as pd\n",
    "import numpy as np"
   ]
  },
  {
   "cell_type": "code",
   "execution_count": 148,
   "id": "2134981f",
   "metadata": {},
   "outputs": [],
   "source": [
    "naics = pd.read_excel(\"2022_NAICS_Descriptions.xlsx\")"
   ]
  },
  {
   "cell_type": "code",
   "execution_count": 149,
   "id": "fbaab1be",
   "metadata": {},
   "outputs": [
    {
     "data": {
      "text/html": [
       "<div>\n",
       "<style scoped>\n",
       "    .dataframe tbody tr th:only-of-type {\n",
       "        vertical-align: middle;\n",
       "    }\n",
       "\n",
       "    .dataframe tbody tr th {\n",
       "        vertical-align: top;\n",
       "    }\n",
       "\n",
       "    .dataframe thead th {\n",
       "        text-align: right;\n",
       "    }\n",
       "</style>\n",
       "<table border=\"1\" class=\"dataframe\">\n",
       "  <thead>\n",
       "    <tr style=\"text-align: right;\">\n",
       "      <th></th>\n",
       "      <th>Code</th>\n",
       "      <th>Title</th>\n",
       "      <th>Description</th>\n",
       "    </tr>\n",
       "  </thead>\n",
       "  <tbody>\n",
       "    <tr>\n",
       "      <th>0</th>\n",
       "      <td>11</td>\n",
       "      <td>Agriculture, Forestry, Fishing and HuntingT</td>\n",
       "      <td>The Sector as a Whole\\n\\nThe Agriculture, Fore...</td>\n",
       "    </tr>\n",
       "    <tr>\n",
       "      <th>1</th>\n",
       "      <td>111</td>\n",
       "      <td>Crop ProductionT</td>\n",
       "      <td>Industries in the Crop Production subsector gr...</td>\n",
       "    </tr>\n",
       "    <tr>\n",
       "      <th>2</th>\n",
       "      <td>1111</td>\n",
       "      <td>Oilseed and Grain FarmingT</td>\n",
       "      <td>This industry group comprises establishments p...</td>\n",
       "    </tr>\n",
       "    <tr>\n",
       "      <th>3</th>\n",
       "      <td>11111</td>\n",
       "      <td>Soybean FarmingT</td>\n",
       "      <td>See industry description for 111110.</td>\n",
       "    </tr>\n",
       "    <tr>\n",
       "      <th>4</th>\n",
       "      <td>111110</td>\n",
       "      <td>Soybean Farming</td>\n",
       "      <td>This industry comprises establishments primari...</td>\n",
       "    </tr>\n",
       "  </tbody>\n",
       "</table>\n",
       "</div>"
      ],
      "text/plain": [
       "     Code                                        Title  \\\n",
       "0      11  Agriculture, Forestry, Fishing and HuntingT   \n",
       "1     111                             Crop ProductionT   \n",
       "2    1111                   Oilseed and Grain FarmingT   \n",
       "3   11111                             Soybean FarmingT   \n",
       "4  111110                              Soybean Farming   \n",
       "\n",
       "                                         Description  \n",
       "0  The Sector as a Whole\\n\\nThe Agriculture, Fore...  \n",
       "1  Industries in the Crop Production subsector gr...  \n",
       "2  This industry group comprises establishments p...  \n",
       "3               See industry description for 111110.  \n",
       "4  This industry comprises establishments primari...  "
      ]
     },
     "execution_count": 149,
     "metadata": {},
     "output_type": "execute_result"
    }
   ],
   "source": [
    "naics.head()"
   ]
  },
  {
   "cell_type": "code",
   "execution_count": 150,
   "id": "a6b0c8bb",
   "metadata": {},
   "outputs": [],
   "source": [
    "naics['Code'] = naics['Code'].astype(str)"
   ]
  },
  {
   "cell_type": "code",
   "execution_count": 151,
   "id": "d8df3a2c",
   "metadata": {},
   "outputs": [],
   "source": [
    "naics['Title'] = naics['Title'].str.replace(\"T$\",\"\",regex=True)"
   ]
  },
  {
   "cell_type": "code",
   "execution_count": 152,
   "id": "954ecd01",
   "metadata": {},
   "outputs": [],
   "source": [
    "for idx in naics.loc[naics['Code'].str.contains('-')].index:\n",
    "    s_codes = naics.loc[idx,'Code'].split('-')\n",
    "    s_row = naics.loc[[idx]]\n",
    "    for s_code in list(range(int(s_codes[0]),int(s_codes[1])+1)):\n",
    "        s_row['Code'] = str(s_code)\n",
    "        naics = pd.concat([naics,s_row])\n",
    "naics = naics.loc[~naics['Code'].str.contains('-')]"
   ]
  },
  {
   "cell_type": "code",
   "execution_count": 161,
   "id": "48313040",
   "metadata": {},
   "outputs": [],
   "source": [
    "naics_code = '111110'"
   ]
  },
  {
   "cell_type": "code",
   "execution_count": 168,
   "id": "09c3a786",
   "metadata": {},
   "outputs": [],
   "source": [
    "def naics_lookup(naics_code):\n",
    "    subCodes = [naics_code[:2],naics_code[:3],naics_code[:4],naics_code[:5],naics_code]\n",
    "    titles = naics.loc[naics['Code'].isin(subCodes),'Title'].drop_duplicates().values\n",
    "    return titles"
   ]
  },
  {
   "cell_type": "code",
   "execution_count": 172,
   "id": "b4c4f8f6",
   "metadata": {},
   "outputs": [],
   "source": [
    "def naics2sectors(naics_codes):\n",
    "    res = []\n",
    "    for naics_code in naics_codes:\n",
    "        titles = naics_lookup(naics_code)\n",
    "        res.append(titles[0])\n",
    "    return res"
   ]
  },
  {
   "cell_type": "code",
   "execution_count": 173,
   "id": "7fd54d91",
   "metadata": {},
   "outputs": [],
   "source": [
    "def naics2industries(naics_codes):\n",
    "    res = []\n",
    "    for naics_code in naics_codes:\n",
    "        titles = naics_lookup(naics_code)\n",
    "        res.append(titles[-1])\n",
    "    return res"
   ]
  },
  {
   "cell_type": "code",
   "execution_count": 174,
   "id": "9f4c1388",
   "metadata": {},
   "outputs": [
    {
     "data": {
      "text/plain": [
       "['Agriculture, Forestry, Fishing and Hunting',\n",
       " 'Agriculture, Forestry, Fishing and Hunting',\n",
       " 'Fabricated Metal Product Manufacturing']"
      ]
     },
     "execution_count": 174,
     "metadata": {},
     "output_type": "execute_result"
    }
   ],
   "source": [
    "naics2sectors(['111110','111199','332439'])"
   ]
  },
  {
   "cell_type": "code",
   "execution_count": 175,
   "id": "96a0ea42",
   "metadata": {},
   "outputs": [
    {
     "data": {
      "text/plain": [
       "['Soybean Farming', 'All Other Grain Farming', 'Manufacturing']"
      ]
     },
     "execution_count": 175,
     "metadata": {},
     "output_type": "execute_result"
    }
   ],
   "source": [
    "naics2industries(['111110','111199','332439'])"
   ]
  },
  {
   "cell_type": "code",
   "execution_count": null,
   "id": "d39d3ec7",
   "metadata": {},
   "outputs": [],
   "source": []
  }
 ],
 "metadata": {
  "kernelspec": {
   "display_name": "Python 3",
   "language": "python",
   "name": "python3"
  },
  "language_info": {
   "codemirror_mode": {
    "name": "ipython",
    "version": 3
   },
   "file_extension": ".py",
   "mimetype": "text/x-python",
   "name": "python",
   "nbconvert_exporter": "python",
   "pygments_lexer": "ipython3",
   "version": "3.8.8"
  }
 },
 "nbformat": 4,
 "nbformat_minor": 5
}
