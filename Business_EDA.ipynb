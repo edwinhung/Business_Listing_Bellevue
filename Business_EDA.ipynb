{
 "cells": [
  {
   "cell_type": "code",
   "execution_count": 2,
   "id": "7a51c8e8",
   "metadata": {},
   "outputs": [],
   "source": [
    "import pandas as pd\n",
    "import matplotlib.pyplot as plt\n",
    "%matplotlib inline"
   ]
  },
  {
   "cell_type": "code",
   "execution_count": 3,
   "id": "bf266dc9",
   "metadata": {},
   "outputs": [],
   "source": [
    "business = pd.read_csv(\"Business_Listing.csv\", low_memory=False)"
   ]
  },
  {
   "cell_type": "code",
   "execution_count": 27,
   "id": "956a4daa",
   "metadata": {},
   "outputs": [
    {
     "data": {
      "text/html": [
       "<div>\n",
       "<style scoped>\n",
       "    .dataframe tbody tr th:only-of-type {\n",
       "        vertical-align: middle;\n",
       "    }\n",
       "\n",
       "    .dataframe tbody tr th {\n",
       "        vertical-align: top;\n",
       "    }\n",
       "\n",
       "    .dataframe thead th {\n",
       "        text-align: right;\n",
       "    }\n",
       "</style>\n",
       "<table border=\"1\" class=\"dataframe\">\n",
       "  <thead>\n",
       "    <tr style=\"text-align: right;\">\n",
       "      <th></th>\n",
       "      <th>X</th>\n",
       "      <th>Y</th>\n",
       "      <th>ObjectId</th>\n",
       "      <th>BusinessFactId</th>\n",
       "      <th>BusinessId</th>\n",
       "      <th>LegalEntityName</th>\n",
       "      <th>Dba</th>\n",
       "      <th>Ubi</th>\n",
       "      <th>Naic</th>\n",
       "      <th>LegalEntityType</th>\n",
       "      <th>...</th>\n",
       "      <th>MailingZip4</th>\n",
       "      <th>PhysicalAddressLine1</th>\n",
       "      <th>PhysicalAddressLine2</th>\n",
       "      <th>Textbox4</th>\n",
       "      <th>PhysicalCity</th>\n",
       "      <th>PhysicalState</th>\n",
       "      <th>PhysicalPostalCode</th>\n",
       "      <th>PhysicalZip4</th>\n",
       "      <th>ProductsAndServices</th>\n",
       "      <th>IssueDate</th>\n",
       "    </tr>\n",
       "  </thead>\n",
       "  <tbody>\n",
       "    <tr>\n",
       "      <th>0</th>\n",
       "      <td>-122.118803</td>\n",
       "      <td>47.594151</td>\n",
       "      <td>1</td>\n",
       "      <td>1</td>\n",
       "      <td>171474</td>\n",
       "      <td>ABACUS SCIENTIFIC INC</td>\n",
       "      <td>ABACUS SCIENTIFIC</td>\n",
       "      <td>6.047495e+15</td>\n",
       "      <td>541519.0</td>\n",
       "      <td>Corporation</td>\n",
       "      <td>...</td>\n",
       "      <td>5150</td>\n",
       "      <td>16517 SE 18th St</td>\n",
       "      <td>NaN</td>\n",
       "      <td>16517 SE 18th St</td>\n",
       "      <td>Bellevue</td>\n",
       "      <td>WA</td>\n",
       "      <td>98008</td>\n",
       "      <td>5150.0</td>\n",
       "      <td>Research and development. Computer Software</td>\n",
       "      <td>2021-07-26 06:59:59+00:00</td>\n",
       "    </tr>\n",
       "    <tr>\n",
       "      <th>1</th>\n",
       "      <td>-122.132494</td>\n",
       "      <td>47.605783</td>\n",
       "      <td>2</td>\n",
       "      <td>2</td>\n",
       "      <td>171612</td>\n",
       "      <td>BELLEVUE SUNFLOWER DAYCARE,LLC</td>\n",
       "      <td>BELLEVUE SUNFLOWER DAYCARE</td>\n",
       "      <td>6.047834e+15</td>\n",
       "      <td>611710.0</td>\n",
       "      <td>LLC or PLLC</td>\n",
       "      <td>...</td>\n",
       "      <td>5345</td>\n",
       "      <td>445 156th Ave SE</td>\n",
       "      <td>NaN</td>\n",
       "      <td>445 156th Ave SE</td>\n",
       "      <td>Bellevue</td>\n",
       "      <td>WA</td>\n",
       "      <td>98007</td>\n",
       "      <td>5345.0</td>\n",
       "      <td>Family childcare services for kids under 12-ye...</td>\n",
       "      <td>2021-08-09 06:59:59+00:00</td>\n",
       "    </tr>\n",
       "    <tr>\n",
       "      <th>2</th>\n",
       "      <td>-122.132017</td>\n",
       "      <td>47.622329</td>\n",
       "      <td>3</td>\n",
       "      <td>3</td>\n",
       "      <td>31781</td>\n",
       "      <td>BURGERMASTER OF BELLEVUE</td>\n",
       "      <td>NaN</td>\n",
       "      <td>1.790218e+08</td>\n",
       "      <td>722513.0</td>\n",
       "      <td>NaN</td>\n",
       "      <td>...</td>\n",
       "      <td>5098</td>\n",
       "      <td>1350 156TH AV NE</td>\n",
       "      <td>NaN</td>\n",
       "      <td>1350 156TH AV NE</td>\n",
       "      <td>BELLEVUE</td>\n",
       "      <td>WA</td>\n",
       "      <td>98007</td>\n",
       "      <td>4412.0</td>\n",
       "      <td>RESTAURANT</td>\n",
       "      <td>1988-11-01 07:59:59+00:00</td>\n",
       "    </tr>\n",
       "    <tr>\n",
       "      <th>3</th>\n",
       "      <td>-122.190504</td>\n",
       "      <td>47.626318</td>\n",
       "      <td>4</td>\n",
       "      <td>4</td>\n",
       "      <td>38947</td>\n",
       "      <td>CARL H JELSTRUP DC PS INC</td>\n",
       "      <td>NaN</td>\n",
       "      <td>6.013319e+08</td>\n",
       "      <td>621310.0</td>\n",
       "      <td>Corporation</td>\n",
       "      <td>...</td>\n",
       "      <td>NaN</td>\n",
       "      <td>1750 112TH AV NE</td>\n",
       "      <td>D154</td>\n",
       "      <td>1750 112TH AV NE D154</td>\n",
       "      <td>BELLEVUE</td>\n",
       "      <td>WA</td>\n",
       "      <td>98005</td>\n",
       "      <td>3727.0</td>\n",
       "      <td>CHIROPRACTIC HEALTH CARE</td>\n",
       "      <td>1992-04-01 08:00:00+00:00</td>\n",
       "    </tr>\n",
       "    <tr>\n",
       "      <th>4</th>\n",
       "      <td>-122.117462</td>\n",
       "      <td>47.641262</td>\n",
       "      <td>5</td>\n",
       "      <td>5</td>\n",
       "      <td>167692</td>\n",
       "      <td>ICK International Inc</td>\n",
       "      <td>ICK International Inc</td>\n",
       "      <td>6.044245e+15</td>\n",
       "      <td>541613.0</td>\n",
       "      <td>Corporation</td>\n",
       "      <td>...</td>\n",
       "      <td>6173</td>\n",
       "      <td>3508 167th Pl NE</td>\n",
       "      <td>NaN</td>\n",
       "      <td>3508 167th Pl NE</td>\n",
       "      <td>Bellevue</td>\n",
       "      <td>WA</td>\n",
       "      <td>98008</td>\n",
       "      <td>6173.0</td>\n",
       "      <td>SOFTWARE DEVELOPMENT and MARKETING</td>\n",
       "      <td>2020-04-08 06:59:59+00:00</td>\n",
       "    </tr>\n",
       "  </tbody>\n",
       "</table>\n",
       "<p>5 rows × 28 columns</p>\n",
       "</div>"
      ],
      "text/plain": [
       "            X          Y  ObjectId  BusinessFactId  BusinessId  \\\n",
       "0 -122.118803  47.594151         1               1      171474   \n",
       "1 -122.132494  47.605783         2               2      171612   \n",
       "2 -122.132017  47.622329         3               3       31781   \n",
       "3 -122.190504  47.626318         4               4       38947   \n",
       "4 -122.117462  47.641262         5               5      167692   \n",
       "\n",
       "                  LegalEntityName                         Dba           Ubi  \\\n",
       "0           ABACUS SCIENTIFIC INC           ABACUS SCIENTIFIC  6.047495e+15   \n",
       "1  BELLEVUE SUNFLOWER DAYCARE,LLC  BELLEVUE SUNFLOWER DAYCARE  6.047834e+15   \n",
       "2        BURGERMASTER OF BELLEVUE                         NaN  1.790218e+08   \n",
       "3       CARL H JELSTRUP DC PS INC                         NaN  6.013319e+08   \n",
       "4           ICK International Inc       ICK International Inc  6.044245e+15   \n",
       "\n",
       "       Naic LegalEntityType  ... MailingZip4 PhysicalAddressLine1  \\\n",
       "0  541519.0     Corporation  ...        5150     16517 SE 18th St   \n",
       "1  611710.0     LLC or PLLC  ...        5345     445 156th Ave SE   \n",
       "2  722513.0             NaN  ...        5098     1350 156TH AV NE   \n",
       "3  621310.0     Corporation  ...         NaN     1750 112TH AV NE   \n",
       "4  541613.0     Corporation  ...        6173     3508 167th Pl NE   \n",
       "\n",
       "   PhysicalAddressLine2               Textbox4 PhysicalCity PhysicalState  \\\n",
       "0                   NaN      16517 SE 18th St      Bellevue            WA   \n",
       "1                   NaN      445 156th Ave SE      Bellevue            WA   \n",
       "2                   NaN      1350 156TH AV NE      BELLEVUE            WA   \n",
       "3                  D154  1750 112TH AV NE D154     BELLEVUE            WA   \n",
       "4                   NaN      3508 167th Pl NE      Bellevue            WA   \n",
       "\n",
       "  PhysicalPostalCode PhysicalZip4  \\\n",
       "0              98008       5150.0   \n",
       "1              98007       5345.0   \n",
       "2              98007       4412.0   \n",
       "3              98005       3727.0   \n",
       "4              98008       6173.0   \n",
       "\n",
       "                                 ProductsAndServices                 IssueDate  \n",
       "0        Research and development. Computer Software 2021-07-26 06:59:59+00:00  \n",
       "1  Family childcare services for kids under 12-ye... 2021-08-09 06:59:59+00:00  \n",
       "2                                         RESTAURANT 1988-11-01 07:59:59+00:00  \n",
       "3                           CHIROPRACTIC HEALTH CARE 1992-04-01 08:00:00+00:00  \n",
       "4                 SOFTWARE DEVELOPMENT and MARKETING 2020-04-08 06:59:59+00:00  \n",
       "\n",
       "[5 rows x 28 columns]"
      ]
     },
     "execution_count": 27,
     "metadata": {},
     "output_type": "execute_result"
    }
   ],
   "source": [
    "business.head()"
   ]
  },
  {
   "cell_type": "code",
   "execution_count": 5,
   "id": "92eee410",
   "metadata": {},
   "outputs": [
    {
     "data": {
      "text/plain": [
       "(41407, 28)"
      ]
     },
     "execution_count": 5,
     "metadata": {},
     "output_type": "execute_result"
    }
   ],
   "source": [
    "business.shape"
   ]
  },
  {
   "cell_type": "code",
   "execution_count": 6,
   "id": "dc3adeb8",
   "metadata": {},
   "outputs": [
    {
     "name": "stdout",
     "output_type": "stream",
     "text": [
      "<class 'pandas.core.frame.DataFrame'>\n",
      "RangeIndex: 41407 entries, 0 to 41406\n",
      "Data columns (total 28 columns):\n",
      " #   Column                Non-Null Count  Dtype  \n",
      "---  ------                --------------  -----  \n",
      " 0   X                     41407 non-null  float64\n",
      " 1   Y                     41407 non-null  float64\n",
      " 2   ObjectId              41407 non-null  int64  \n",
      " 3   BusinessFactId        41407 non-null  int64  \n",
      " 4   BusinessId            41407 non-null  int64  \n",
      " 5   LegalEntityName       41407 non-null  object \n",
      " 6   Dba                   9212 non-null   object \n",
      " 7   Ubi                   41407 non-null  float64\n",
      " 8   Naic                  40592 non-null  float64\n",
      " 9   LegalEntityType       39851 non-null  object \n",
      " 10  FirstActivityDate     41407 non-null  object \n",
      " 11  CancelDate            24972 non-null  object \n",
      " 12  MailingAddressId      41404 non-null  float64\n",
      " 13  MailingAddressLine1   41404 non-null  object \n",
      " 14  MailingAddressLine2   16509 non-null  object \n",
      " 15  MailingCity           41404 non-null  object \n",
      " 16  MailingState          41402 non-null  object \n",
      " 17  MailingPostalCode     41404 non-null  object \n",
      " 18  MailingZip4           26113 non-null  object \n",
      " 19  PhysicalAddressLine1  41407 non-null  object \n",
      " 20  PhysicalAddressLine2  19829 non-null  object \n",
      " 21  Textbox4              41407 non-null  object \n",
      " 22  PhysicalCity          41407 non-null  object \n",
      " 23  PhysicalState         41407 non-null  object \n",
      " 24  PhysicalPostalCode    41407 non-null  object \n",
      " 25  PhysicalZip4          25783 non-null  float64\n",
      " 26  ProductsAndServices   40678 non-null  object \n",
      " 27  IssueDate             41190 non-null  object \n",
      "dtypes: float64(6), int64(3), object(19)\n",
      "memory usage: 8.8+ MB\n"
     ]
    }
   ],
   "source": [
    "business.info()"
   ]
  },
  {
   "cell_type": "code",
   "execution_count": 7,
   "id": "61362504",
   "metadata": {},
   "outputs": [
    {
     "data": {
      "text/plain": [
       "X                           0\n",
       "Y                           0\n",
       "ObjectId                    0\n",
       "BusinessFactId              0\n",
       "BusinessId                  0\n",
       "LegalEntityName             0\n",
       "Dba                     32195\n",
       "Ubi                         0\n",
       "Naic                      815\n",
       "LegalEntityType          1556\n",
       "FirstActivityDate           0\n",
       "CancelDate              16435\n",
       "MailingAddressId            3\n",
       "MailingAddressLine1         3\n",
       "MailingAddressLine2     24898\n",
       "MailingCity                 3\n",
       "MailingState                5\n",
       "MailingPostalCode           3\n",
       "MailingZip4             15294\n",
       "PhysicalAddressLine1        0\n",
       "PhysicalAddressLine2    21578\n",
       "Textbox4                    0\n",
       "PhysicalCity                0\n",
       "PhysicalState               0\n",
       "PhysicalPostalCode          0\n",
       "PhysicalZip4            15624\n",
       "ProductsAndServices       729\n",
       "IssueDate                 217\n",
       "dtype: int64"
      ]
     },
     "execution_count": 7,
     "metadata": {},
     "output_type": "execute_result"
    }
   ],
   "source": [
    "business.isna().sum()"
   ]
  },
  {
   "cell_type": "code",
   "execution_count": 8,
   "id": "75cdaab9",
   "metadata": {},
   "outputs": [],
   "source": [
    "for date_col in ['FirstActivityDate','IssueDate']:\n",
    "    business[date_col] = pd.to_datetime(business[date_col])\n"
   ]
  },
  {
   "cell_type": "code",
   "execution_count": 9,
   "id": "6eef8841",
   "metadata": {},
   "outputs": [
    {
     "data": {
      "text/plain": [
       "(Timestamp('2023-01-01 08:00:00+0000', tz='UTC'),\n",
       " Timestamp('1904-09-01 07:00:00+0000', tz='UTC'))"
      ]
     },
     "execution_count": 9,
     "metadata": {},
     "output_type": "execute_result"
    }
   ],
   "source": [
    "business['FirstActivityDate'].max(),business['FirstActivityDate'].min()"
   ]
  },
  {
   "cell_type": "code",
   "execution_count": 10,
   "id": "646aeec0",
   "metadata": {},
   "outputs": [
    {
     "data": {
      "text/plain": [
       "(Timestamp('2022-05-26 06:59:59+0000', tz='UTC'),\n",
       " Timestamp('1953-01-01 08:00:00+0000', tz='UTC'))"
      ]
     },
     "execution_count": 10,
     "metadata": {},
     "output_type": "execute_result"
    }
   ],
   "source": [
    "business['IssueDate'].max(),business['IssueDate'].min()"
   ]
  },
  {
   "cell_type": "code",
   "execution_count": 11,
   "id": "c6a9d341",
   "metadata": {},
   "outputs": [
    {
     "data": {
      "text/plain": [
       "(41190, 28)"
      ]
     },
     "execution_count": 11,
     "metadata": {},
     "output_type": "execute_result"
    }
   ],
   "source": [
    "business = business.dropna(subset=['IssueDate'])\n",
    "business.shape"
   ]
  },
  {
   "cell_type": "code",
   "execution_count": 18,
   "id": "8700e1b3",
   "metadata": {},
   "outputs": [
    {
     "data": {
      "image/png": "[encoded data removed]",
      "text/plain": [
       "<Figure size 720x432 with 1 Axes>"
      ]
     },
     "metadata": {
      "needs_background": "light"
     },
     "output_type": "display_data"
    }
   ],
   "source": [
    "plt.figure(figsize=(10,6))\n",
    "plt.hist(x=business['IssueDate'],bins=pd.date_range(\"2000-01-01\", \"2022-05-26\", freq=\"D\"))\n",
    "plt.show()"
   ]
  },
  {
   "cell_type": "code",
   "execution_count": 19,
   "id": "ad03daa7",
   "metadata": {},
   "outputs": [
    {
     "data": {
      "image/png": "[encoded data removed]",
      "text/plain": [
       "<Figure size 720x432 with 1 Axes>"
      ]
     },
     "metadata": {
      "needs_background": "light"
     },
     "output_type": "display_data"
    }
   ],
   "source": [
    "plt.figure(figsize=(10,6))\n",
    "plt.hist(x=business['IssueDate'],bins=pd.date_range(\"2018-01-01\", \"2022-05-26\", freq=\"W\"))\n",
    "plt.show()"
   ]
  },
  {
   "cell_type": "code",
   "execution_count": null,
   "id": "21b74349",
   "metadata": {},
   "outputs": [],
   "source": []
  }
 ],
 "metadata": {
  "kernelspec": {
   "display_name": "Python 3",
   "language": "python",
   "name": "python3"
  },
  "language_info": {
   "codemirror_mode": {
    "name": "ipython",
    "version": 3
   },
   "file_extension": ".py",
   "mimetype": "text/x-python",
   "name": "python",
   "nbconvert_exporter": "python",
   "pygments_lexer": "ipython3",
   "version": "3.8.8"
  }
 },
 "nbformat": 4,
 "nbformat_minor": 5
}
